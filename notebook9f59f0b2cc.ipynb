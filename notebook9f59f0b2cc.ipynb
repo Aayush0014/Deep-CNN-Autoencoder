{
 "cells": [
  {
   "cell_type": "markdown",
   "id": "04abfc7a",
   "metadata": {
    "_cell_guid": "b1076dfc-b9ad-4769-8c92-a6c4dae69d19",
    "_uuid": "8f2839f25d086af736a60e9eeb907d3b93b6e0e5",
    "papermill": {
     "duration": 0.007739,
     "end_time": "2023-01-27T11:09:43.318564",
     "exception": false,
     "start_time": "2023-01-27T11:09:43.310825",
     "status": "completed"
    },
    "tags": []
   },
   "source": [
    "## Autoencoder\n",
    "\n",
    "An autoencoder is an unsupervised learning technique for nueral network that learns efficient data representation(encoding) by training the network to ignore signal \"noise\". Autoencoders can be used for image denoising image compression,and,in some cases, even generation of image data."
   ]
  },
  {
   "cell_type": "markdown",
   "id": "1c9ff07f",
   "metadata": {
    "papermill": {
     "duration": 0.006399,
     "end_time": "2023-01-27T11:09:43.331736",
     "exception": false,
     "start_time": "2023-01-27T11:09:43.325337",
     "status": "completed"
    },
    "tags": []
   },
   "source": [
    "## 1.Image Compression"
   ]
  },
  {
   "cell_type": "markdown",
   "id": "154b3a33",
   "metadata": {
    "papermill": {
     "duration": 0.006312,
     "end_time": "2023-01-27T11:09:43.344745",
     "exception": false,
     "start_time": "2023-01-27T11:09:43.338433",
     "status": "completed"
    },
    "tags": []
   },
   "source": [
    "## Flow of Autoencoder\n",
    "\n",
    "Input Image ->Encoder -> Compressed Representation ->Decoder->Reconstruct Input Image"
   ]
  },
  {
   "cell_type": "code",
   "execution_count": 1,
   "id": "635cfde9",
   "metadata": {
    "execution": {
     "iopub.execute_input": "2023-01-27T11:09:43.360094Z",
     "iopub.status.busy": "2023-01-27T11:09:43.359589Z",
     "iopub.status.idle": "2023-01-27T11:09:48.346045Z",
     "shell.execute_reply": "2023-01-27T11:09:48.344931Z"
    },
    "papermill": {
     "duration": 4.997616,
     "end_time": "2023-01-27T11:09:48.349071",
     "exception": false,
     "start_time": "2023-01-27T11:09:43.351455",
     "status": "completed"
    },
    "tags": []
   },
   "outputs": [],
   "source": [
    "# Importing Modules\n",
    "import numpy as np\n",
    "import matplotlib.pyplot as plt\n",
    "from keras import Sequential\n",
    "from keras.layers import Dense, Conv2D, MaxPooling2D, UpSampling2D\n",
    "from keras.datasets import mnist"
   ]
  },
  {
   "cell_type": "code",
   "execution_count": 2,
   "id": "945493ef",
   "metadata": {
    "execution": {
     "iopub.execute_input": "2023-01-27T11:09:48.365627Z",
     "iopub.status.busy": "2023-01-27T11:09:48.364914Z",
     "iopub.status.idle": "2023-01-27T11:09:49.135804Z",
     "shell.execute_reply": "2023-01-27T11:09:49.134667Z"
    },
    "papermill": {
     "duration": 0.782288,
     "end_time": "2023-01-27T11:09:49.138764",
     "exception": false,
     "start_time": "2023-01-27T11:09:48.356476",
     "status": "completed"
    },
    "tags": []
   },
   "outputs": [
    {
     "name": "stdout",
     "output_type": "stream",
     "text": [
      "Downloading data from https://storage.googleapis.com/tensorflow/tf-keras-datasets/mnist.npz\n",
      "11493376/11490434 [==============================] - 0s 0us/step\n",
      "11501568/11490434 [==============================] - 0s 0us/step\n"
     ]
    }
   ],
   "source": [
    "# loading the data\n",
    "(x_train,_),(x_test,_) = mnist.load_data()"
   ]
  },
  {
   "cell_type": "code",
   "execution_count": 3,
   "id": "06a9a560",
   "metadata": {
    "execution": {
     "iopub.execute_input": "2023-01-27T11:09:49.156905Z",
     "iopub.status.busy": "2023-01-27T11:09:49.156559Z",
     "iopub.status.idle": "2023-01-27T11:09:49.239845Z",
     "shell.execute_reply": "2023-01-27T11:09:49.238553Z"
    },
    "papermill": {
     "duration": 0.096455,
     "end_time": "2023-01-27T11:09:49.243796",
     "exception": false,
     "start_time": "2023-01-27T11:09:49.147341",
     "status": "completed"
    },
    "tags": []
   },
   "outputs": [],
   "source": [
    "# normalizing the image data\n",
    "x_train = x_train.astype('float32')/255\n",
    "x_test = x_test.astype('float32')/255"
   ]
  },
  {
   "cell_type": "code",
   "execution_count": 4,
   "id": "783b8a1e",
   "metadata": {
    "execution": {
     "iopub.execute_input": "2023-01-27T11:09:49.262741Z",
     "iopub.status.busy": "2023-01-27T11:09:49.262388Z",
     "iopub.status.idle": "2023-01-27T11:09:49.268363Z",
     "shell.execute_reply": "2023-01-27T11:09:49.267182Z"
    },
    "papermill": {
     "duration": 0.017617,
     "end_time": "2023-01-27T11:09:49.270639",
     "exception": false,
     "start_time": "2023-01-27T11:09:49.253022",
     "status": "completed"
    },
    "tags": []
   },
   "outputs": [],
   "source": [
    "# reshaping the input data for the model\n",
    "x_train = x_train.reshape(len(x_train),28,28,1)\n",
    "x_test = x_test.reshape(len(x_test),28,28,1)"
   ]
  },
  {
   "cell_type": "code",
   "execution_count": 5,
   "id": "c6dadf59",
   "metadata": {
    "execution": {
     "iopub.execute_input": "2023-01-27T11:09:49.289320Z",
     "iopub.status.busy": "2023-01-27T11:09:49.288576Z",
     "iopub.status.idle": "2023-01-27T11:09:49.297468Z",
     "shell.execute_reply": "2023-01-27T11:09:49.296425Z"
    },
    "papermill": {
     "duration": 0.020345,
     "end_time": "2023-01-27T11:09:49.299932",
     "exception": false,
     "start_time": "2023-01-27T11:09:49.279587",
     "status": "completed"
    },
    "tags": []
   },
   "outputs": [
    {
     "data": {
      "text/plain": [
       "(10000, 28, 28, 1)"
      ]
     },
     "execution_count": 5,
     "metadata": {},
     "output_type": "execute_result"
    }
   ],
   "source": [
    "x_test.shape"
   ]
  },
  {
   "cell_type": "markdown",
   "id": "3b7c5620",
   "metadata": {
    "papermill": {
     "duration": 0.007946,
     "end_time": "2023-01-27T11:09:49.316097",
     "exception": false,
     "start_time": "2023-01-27T11:09:49.308151",
     "status": "completed"
    },
    "tags": []
   },
   "source": [
    "## EDA"
   ]
  },
  {
   "cell_type": "code",
   "execution_count": 6,
   "id": "c17c3356",
   "metadata": {
    "execution": {
     "iopub.execute_input": "2023-01-27T11:09:49.333443Z",
     "iopub.status.busy": "2023-01-27T11:09:49.332715Z",
     "iopub.status.idle": "2023-01-27T11:09:49.541794Z",
     "shell.execute_reply": "2023-01-27T11:09:49.540868Z"
    },
    "papermill": {
     "duration": 0.219605,
     "end_time": "2023-01-27T11:09:49.543867",
     "exception": false,
     "start_time": "2023-01-27T11:09:49.324262",
     "status": "completed"
    },
    "tags": []
   },
   "outputs": [
    {
     "data": {
      "image/png": "[encoded data removed]",
      "text/plain": [
       "<Figure size 432x288 with 1 Axes>"
      ]
     },
     "metadata": {
      "needs_background": "light"
     },
     "output_type": "display_data"
    }
   ],
   "source": [
    "index = np.random.randint(len(x_test))\n",
    "plt.imshow(x_test[index].reshape(28,28))\n",
    "plt.gray()"
   ]
  },
  {
   "cell_type": "markdown",
   "id": "aa0b81ae",
   "metadata": {
    "papermill": {
     "duration": 0.006968,
     "end_time": "2023-01-27T11:09:49.558173",
     "exception": false,
     "start_time": "2023-01-27T11:09:49.551205",
     "status": "completed"
    },
    "tags": []
   },
   "source": [
    "## Model Creation\n"
   ]
  },
  {
   "cell_type": "code",
   "execution_count": 7,
   "id": "42d38886",
   "metadata": {
    "execution": {
     "iopub.execute_input": "2023-01-27T11:09:49.574594Z",
     "iopub.status.busy": "2023-01-27T11:09:49.573712Z",
     "iopub.status.idle": "2023-01-27T11:09:52.334336Z",
     "shell.execute_reply": "2023-01-27T11:09:52.333272Z"
    },
    "papermill": {
     "duration": 2.772081,
     "end_time": "2023-01-27T11:09:52.337747",
     "exception": false,
     "start_time": "2023-01-27T11:09:49.565666",
     "status": "completed"
    },
    "tags": []
   },
   "outputs": [
    {
     "name": "stderr",
     "output_type": "stream",
     "text": [
      "2023-01-27 11:09:49.672784: I tensorflow/stream_executor/cuda/cuda_gpu_executor.cc:937] successful NUMA node read from SysFS had negative value (-1), but there must be at least one NUMA node, so returning NUMA node zero\n",
      "2023-01-27 11:09:49.775319: I tensorflow/stream_executor/cuda/cuda_gpu_executor.cc:937] successful NUMA node read from SysFS had negative value (-1), but there must be at least one NUMA node, so returning NUMA node zero\n",
      "2023-01-27 11:09:49.776118: I tensorflow/stream_executor/cuda/cuda_gpu_executor.cc:937] successful NUMA node read from SysFS had negative value (-1), but there must be at least one NUMA node, so returning NUMA node zero\n"
     ]
    },
    {
     "name": "stdout",
     "output_type": "stream",
     "text": [
      "Model: \"sequential\"\n",
      "_________________________________________________________________\n",
      "Layer (type)                 Output Shape              Param #   \n",
      "=================================================================\n",
      "conv2d (Conv2D)              (None, 28, 28, 32)        320       \n",
      "_________________________________________________________________\n",
      "max_pooling2d (MaxPooling2D) (None, 14, 14, 32)        0         \n",
      "_________________________________________________________________\n",
      "conv2d_1 (Conv2D)            (None, 14, 14, 16)        4624      \n",
      "_________________________________________________________________\n",
      "max_pooling2d_1 (MaxPooling2 (None, 7, 7, 16)          0         \n",
      "_________________________________________________________________\n",
      "conv2d_2 (Conv2D)            (None, 7, 7, 16)          2320      \n",
      "_________________________________________________________________\n",
      "up_sampling2d (UpSampling2D) (None, 14, 14, 16)        0         \n",
      "_________________________________________________________________\n",
      "conv2d_3 (Conv2D)            (None, 14, 14, 32)        4640      \n",
      "_________________________________________________________________\n",
      "up_sampling2d_1 (UpSampling2 (None, 28, 28, 32)        0         \n",
      "_________________________________________________________________\n",
      "conv2d_4 (Conv2D)            (None, 28, 28, 1)         289       \n",
      "=================================================================\n",
      "Total params: 12,193\n",
      "Trainable params: 12,193\n",
      "Non-trainable params: 0\n",
      "_________________________________________________________________\n"
     ]
    },
    {
     "name": "stderr",
     "output_type": "stream",
     "text": [
      "2023-01-27 11:09:49.778652: I tensorflow/core/platform/cpu_feature_guard.cc:142] This TensorFlow binary is optimized with oneAPI Deep Neural Network Library (oneDNN) to use the following CPU instructions in performance-critical operations:  AVX2 AVX512F FMA\n",
      "To enable them in other operations, rebuild TensorFlow with the appropriate compiler flags.\n",
      "2023-01-27 11:09:49.779008: I tensorflow/stream_executor/cuda/cuda_gpu_executor.cc:937] successful NUMA node read from SysFS had negative value (-1), but there must be at least one NUMA node, so returning NUMA node zero\n",
      "2023-01-27 11:09:49.780083: I tensorflow/stream_executor/cuda/cuda_gpu_executor.cc:937] successful NUMA node read from SysFS had negative value (-1), but there must be at least one NUMA node, so returning NUMA node zero\n",
      "2023-01-27 11:09:49.781079: I tensorflow/stream_executor/cuda/cuda_gpu_executor.cc:937] successful NUMA node read from SysFS had negative value (-1), but there must be at least one NUMA node, so returning NUMA node zero\n",
      "2023-01-27 11:09:51.893806: I tensorflow/stream_executor/cuda/cuda_gpu_executor.cc:937] successful NUMA node read from SysFS had negative value (-1), but there must be at least one NUMA node, so returning NUMA node zero\n",
      "2023-01-27 11:09:51.894664: I tensorflow/stream_executor/cuda/cuda_gpu_executor.cc:937] successful NUMA node read from SysFS had negative value (-1), but there must be at least one NUMA node, so returning NUMA node zero\n",
      "2023-01-27 11:09:51.895313: I tensorflow/stream_executor/cuda/cuda_gpu_executor.cc:937] successful NUMA node read from SysFS had negative value (-1), but there must be at least one NUMA node, so returning NUMA node zero\n",
      "2023-01-27 11:09:51.895883: I tensorflow/core/common_runtime/gpu/gpu_device.cc:1510] Created device /job:localhost/replica:0/task:0/device:GPU:0 with 15401 MB memory:  -> device: 0, name: Tesla P100-PCIE-16GB, pci bus id: 0000:00:04.0, compute capability: 6.0\n"
     ]
    }
   ],
   "source": [
    "model = Sequential([\n",
    "    # encoder network\n",
    "    Conv2D(32,3,activation='relu',padding='same',input_shape=(28,28,1)),\n",
    "    MaxPooling2D(2,padding='same'),\n",
    "    Conv2D(16,3,activation='relu',padding='same'),\n",
    "    MaxPooling2D(2,padding='same'),\n",
    "    \n",
    "    # decoder netwrok\n",
    "    Conv2D(16,3,activation='relu',padding='same'),\n",
    "    UpSampling2D(2),\n",
    "    Conv2D(32,3,activation='relu',padding='same'),\n",
    "    UpSampling2D(2),\n",
    "    \n",
    "    # output layer\n",
    "    Conv2D(1,3,activation='sigmoid',padding='same')\n",
    "    \n",
    "])\n",
    "\n",
    "model.compile(optimizer='adam',loss='binary_crossentropy')\n",
    "model.summary()"
   ]
  },
  {
   "cell_type": "code",
   "execution_count": 8,
   "id": "af62ee1c",
   "metadata": {
    "execution": {
     "iopub.execute_input": "2023-01-27T11:09:52.354925Z",
     "iopub.status.busy": "2023-01-27T11:09:52.354637Z",
     "iopub.status.idle": "2023-01-27T11:10:35.454360Z",
     "shell.execute_reply": "2023-01-27T11:10:35.453441Z"
    },
    "papermill": {
     "duration": 43.109967,
     "end_time": "2023-01-27T11:10:35.456373",
     "exception": false,
     "start_time": "2023-01-27T11:09:52.346406",
     "status": "completed"
    },
    "tags": []
   },
   "outputs": [
    {
     "name": "stderr",
     "output_type": "stream",
     "text": [
      "2023-01-27 11:09:53.293615: I tensorflow/compiler/mlir/mlir_graph_optimization_pass.cc:185] None of the MLIR Optimization Passes are enabled (registered 2)\n"
     ]
    },
    {
     "name": "stdout",
     "output_type": "stream",
     "text": [
      "Epoch 1/20\n"
     ]
    },
    {
     "name": "stderr",
     "output_type": "stream",
     "text": [
      "2023-01-27 11:09:54.702448: I tensorflow/stream_executor/cuda/cuda_dnn.cc:369] Loaded cuDNN version 8005\n"
     ]
    },
    {
     "name": "stdout",
     "output_type": "stream",
     "text": [
      "235/235 [==============================] - 9s 9ms/step - loss: 0.1678 - val_loss: 0.0889\n",
      "Epoch 2/20\n",
      "235/235 [==============================] - 2s 7ms/step - loss: 0.0847 - val_loss: 0.0802\n",
      "Epoch 3/20\n",
      "235/235 [==============================] - 2s 7ms/step - loss: 0.0792 - val_loss: 0.0768\n",
      "Epoch 4/20\n",
      "235/235 [==============================] - 2s 8ms/step - loss: 0.0767 - val_loss: 0.0753\n",
      "Epoch 5/20\n",
      "235/235 [==============================] - 2s 7ms/step - loss: 0.0751 - val_loss: 0.0738\n",
      "Epoch 6/20\n",
      "235/235 [==============================] - 2s 7ms/step - loss: 0.0740 - val_loss: 0.0728\n",
      "Epoch 7/20\n",
      "235/235 [==============================] - 2s 7ms/step - loss: 0.0731 - val_loss: 0.0721\n",
      "Epoch 8/20\n",
      "235/235 [==============================] - 2s 8ms/step - loss: 0.0724 - val_loss: 0.0715\n",
      "Epoch 9/20\n",
      "235/235 [==============================] - 2s 7ms/step - loss: 0.0718 - val_loss: 0.0709\n",
      "Epoch 10/20\n",
      "235/235 [==============================] - 2s 8ms/step - loss: 0.0713 - val_loss: 0.0705\n",
      "Epoch 11/20\n",
      "235/235 [==============================] - 2s 7ms/step - loss: 0.0709 - val_loss: 0.0701\n",
      "Epoch 12/20\n",
      "235/235 [==============================] - 2s 7ms/step - loss: 0.0706 - val_loss: 0.0698\n",
      "Epoch 13/20\n",
      "235/235 [==============================] - 2s 7ms/step - loss: 0.0702 - val_loss: 0.0695\n",
      "Epoch 14/20\n",
      "235/235 [==============================] - 2s 7ms/step - loss: 0.0699 - val_loss: 0.0692\n",
      "Epoch 15/20\n",
      "235/235 [==============================] - 2s 7ms/step - loss: 0.0697 - val_loss: 0.0690\n",
      "Epoch 16/20\n",
      "235/235 [==============================] - 2s 7ms/step - loss: 0.0694 - val_loss: 0.0689\n",
      "Epoch 17/20\n",
      "235/235 [==============================] - 2s 8ms/step - loss: 0.0692 - val_loss: 0.0685\n",
      "Epoch 18/20\n",
      "235/235 [==============================] - 2s 7ms/step - loss: 0.0690 - val_loss: 0.0683\n",
      "Epoch 19/20\n",
      "235/235 [==============================] - 2s 7ms/step - loss: 0.0688 - val_loss: 0.0682\n",
      "Epoch 20/20\n",
      "235/235 [==============================] - 2s 7ms/step - loss: 0.0687 - val_loss: 0.0680\n"
     ]
    },
    {
     "data": {
      "text/plain": [
       "<keras.callbacks.History at 0x7f9c0ca7ac90>"
      ]
     },
     "execution_count": 8,
     "metadata": {},
     "output_type": "execute_result"
    }
   ],
   "source": [
    "# training the model\n",
    "model.fit(x_train,x_train, epochs=20, batch_size=256, validation_data=(x_test,x_test))"
   ]
  },
  {
   "cell_type": "markdown",
   "id": "4d0a46aa",
   "metadata": {
    "papermill": {
     "duration": 0.038702,
     "end_time": "2023-01-27T11:10:35.534491",
     "exception": false,
     "start_time": "2023-01-27T11:10:35.495789",
     "status": "completed"
    },
    "tags": []
   },
   "source": [
    "## Visualizing the Results"
   ]
  },
  {
   "cell_type": "code",
   "execution_count": 9,
   "id": "9a5ff74a",
   "metadata": {
    "execution": {
     "iopub.execute_input": "2023-01-27T11:10:35.612650Z",
     "iopub.status.busy": "2023-01-27T11:10:35.611697Z",
     "iopub.status.idle": "2023-01-27T11:10:36.225049Z",
     "shell.execute_reply": "2023-01-27T11:10:36.224036Z"
    },
    "papermill": {
     "duration": 0.654733,
     "end_time": "2023-01-27T11:10:36.227496",
     "exception": false,
     "start_time": "2023-01-27T11:10:35.572763",
     "status": "completed"
    },
    "tags": []
   },
   "outputs": [],
   "source": [
    "# predicting the results from model(getting compressed images)\n",
    "pred = model.predict(x_test)\n"
   ]
  },
  {
   "cell_type": "code",
   "execution_count": 10,
   "id": "dc23c05d",
   "metadata": {
    "execution": {
     "iopub.execute_input": "2023-01-27T11:10:36.305773Z",
     "iopub.status.busy": "2023-01-27T11:10:36.304927Z",
     "iopub.status.idle": "2023-01-27T11:10:36.476881Z",
     "shell.execute_reply": "2023-01-27T11:10:36.476023Z"
    },
    "papermill": {
     "duration": 0.212961,
     "end_time": "2023-01-27T11:10:36.478970",
     "exception": false,
     "start_time": "2023-01-27T11:10:36.266009",
     "status": "completed"
    },
    "tags": []
   },
   "outputs": [
    {
     "data": {
      "image/png": "[encoded data removed]",
      "text/plain": [
       "<Figure size 432x288 with 1 Axes>"
      ]
     },
     "metadata": {
      "needs_background": "light"
     },
     "output_type": "display_data"
    }
   ],
   "source": [
    "# visualizing the original image\n",
    "index = np.random.randint(len(x_test))\n",
    "plt.imshow(x_test[index].reshape(28,28))\n",
    "plt.gray()"
   ]
  },
  {
   "cell_type": "code",
   "execution_count": 11,
   "id": "487fda46",
   "metadata": {
    "execution": {
     "iopub.execute_input": "2023-01-27T11:10:36.557557Z",
     "iopub.status.busy": "2023-01-27T11:10:36.557246Z",
     "iopub.status.idle": "2023-01-27T11:10:36.730917Z",
     "shell.execute_reply": "2023-01-27T11:10:36.730023Z"
    },
    "papermill": {
     "duration": 0.215308,
     "end_time": "2023-01-27T11:10:36.733030",
     "exception": false,
     "start_time": "2023-01-27T11:10:36.517722",
     "status": "completed"
    },
    "tags": []
   },
   "outputs": [
    {
     "data": {
      "image/png": "[encoded data removed]",
      "text/plain": [
       "<Figure size 432x288 with 1 Axes>"
      ]
     },
     "metadata": {
      "needs_background": "light"
     },
     "output_type": "display_data"
    }
   ],
   "source": [
    "# visualizing compressed image\n",
    "plt.imshow(pred[index].reshape(28,28))\n",
    "plt.gray()"
   ]
  },
  {
   "cell_type": "code",
   "execution_count": 12,
   "id": "ea9908e2",
   "metadata": {
    "execution": {
     "iopub.execute_input": "2023-01-27T11:10:36.811137Z",
     "iopub.status.busy": "2023-01-27T11:10:36.810841Z",
     "iopub.status.idle": "2023-01-27T11:10:37.065020Z",
     "shell.execute_reply": "2023-01-27T11:10:37.063990Z"
    },
    "papermill": {
     "duration": 0.295404,
     "end_time": "2023-01-27T11:10:37.067034",
     "exception": false,
     "start_time": "2023-01-27T11:10:36.771630",
     "status": "completed"
    },
    "tags": []
   },
   "outputs": [
    {
     "data": {
      "text/plain": [
       "<function matplotlib.pyplot.show(close=None, block=None)>"
      ]
     },
     "execution_count": 12,
     "metadata": {},
     "output_type": "execute_result"
    },
    {
     "data": {
      "image/png": "[encoded data removed]",
      "text/plain": [
       "<Figure size 720x288 with 2 Axes>"
      ]
     },
     "metadata": {
      "needs_background": "light"
     },
     "output_type": "display_data"
    }
   ],
   "source": [
    "index = np.random.randint(len(x_test))\n",
    "plt.figure(figsize=(10,4))\n",
    "# displaying original image\n",
    "ax=plt.subplot(1,2,1)\n",
    "plt.imshow(x_test[index].reshape(28,28))\n",
    "plt.gray()\n",
    "\n",
    "\n",
    "# displaying predicted image\n",
    "ax=plt.subplot(1,2,2)\n",
    "plt.imshow(pred[index].reshape(28,28))\n",
    "plt.gray()\n",
    "\n",
    "plt.show"
   ]
  },
  {
   "cell_type": "markdown",
   "id": "0339e110",
   "metadata": {
    "papermill": {
     "duration": 0.03847,
     "end_time": "2023-01-27T11:10:37.143813",
     "exception": false,
     "start_time": "2023-01-27T11:10:37.105343",
     "status": "completed"
    },
    "tags": []
   },
   "source": [
    "## 2.Denoising Image"
   ]
  },
  {
   "cell_type": "markdown",
   "id": "8e7ca637",
   "metadata": {
    "papermill": {
     "duration": 0.037738,
     "end_time": "2023-01-27T11:10:37.219650",
     "exception": false,
     "start_time": "2023-01-27T11:10:37.181912",
     "status": "completed"
    },
    "tags": []
   },
   "source": [
    "## Flow of Autoencoder\n",
    "\n",
    "Noise Image ->Encoder -> Compressed Representation ->Decoder->Reconstruct Input Image"
   ]
  },
  {
   "cell_type": "code",
   "execution_count": 13,
   "id": "19c937c3",
   "metadata": {
    "execution": {
     "iopub.execute_input": "2023-01-27T11:10:37.297702Z",
     "iopub.status.busy": "2023-01-27T11:10:37.296904Z",
     "iopub.status.idle": "2023-01-27T11:10:37.540667Z",
     "shell.execute_reply": "2023-01-27T11:10:37.539602Z"
    },
    "papermill": {
     "duration": 0.285601,
     "end_time": "2023-01-27T11:10:37.543230",
     "exception": false,
     "start_time": "2023-01-27T11:10:37.257629",
     "status": "completed"
    },
    "tags": []
   },
   "outputs": [],
   "source": [
    "# loading the data\n",
    "(x_train,_),(x_test,_) = mnist.load_data()"
   ]
  },
  {
   "cell_type": "code",
   "execution_count": 14,
   "id": "685dd4f8",
   "metadata": {
    "execution": {
     "iopub.execute_input": "2023-01-27T11:10:37.623123Z",
     "iopub.status.busy": "2023-01-27T11:10:37.622778Z",
     "iopub.status.idle": "2023-01-27T11:10:37.696697Z",
     "shell.execute_reply": "2023-01-27T11:10:37.695666Z"
    },
    "papermill": {
     "duration": 0.116346,
     "end_time": "2023-01-27T11:10:37.699295",
     "exception": false,
     "start_time": "2023-01-27T11:10:37.582949",
     "status": "completed"
    },
    "tags": []
   },
   "outputs": [],
   "source": [
    "# normalizing the image data\n",
    "x_train = x_train.astype('float32')/255\n",
    "x_test = x_test.astype('float32')/255"
   ]
  },
  {
   "cell_type": "code",
   "execution_count": 15,
   "id": "ff54306d",
   "metadata": {
    "execution": {
     "iopub.execute_input": "2023-01-27T11:10:37.779174Z",
     "iopub.status.busy": "2023-01-27T11:10:37.778847Z",
     "iopub.status.idle": "2023-01-27T11:10:37.783877Z",
     "shell.execute_reply": "2023-01-27T11:10:37.782809Z"
    },
    "papermill": {
     "duration": 0.046902,
     "end_time": "2023-01-27T11:10:37.786095",
     "exception": false,
     "start_time": "2023-01-27T11:10:37.739193",
     "status": "completed"
    },
    "tags": []
   },
   "outputs": [],
   "source": [
    "# reshaping the input data for the model\n",
    "x_train = x_train.reshape(len(x_train),28,28,1)\n",
    "x_test = x_test.reshape(len(x_test),28,28,1)"
   ]
  },
  {
   "cell_type": "markdown",
   "id": "030f9d5f",
   "metadata": {
    "papermill": {
     "duration": 0.038804,
     "end_time": "2023-01-27T11:10:37.862982",
     "exception": false,
     "start_time": "2023-01-27T11:10:37.824178",
     "status": "completed"
    },
    "tags": []
   },
   "source": [
    "## Adding noise to the image"
   ]
  },
  {
   "cell_type": "code",
   "execution_count": 16,
   "id": "ddc53534",
   "metadata": {
    "execution": {
     "iopub.execute_input": "2023-01-27T11:10:37.940136Z",
     "iopub.status.busy": "2023-01-27T11:10:37.939837Z",
     "iopub.status.idle": "2023-01-27T11:10:39.550031Z",
     "shell.execute_reply": "2023-01-27T11:10:39.549030Z"
    },
    "papermill": {
     "duration": 1.651456,
     "end_time": "2023-01-27T11:10:39.552426",
     "exception": false,
     "start_time": "2023-01-27T11:10:37.900970",
     "status": "completed"
    },
    "tags": []
   },
   "outputs": [],
   "source": [
    "noise_factor = 0.6\n",
    "x_train_noisy = x_train + noise_factor*np.random.normal(loc=0.0,scale=1.0,size=x_train.shape)\n",
    "x_test_noisy = x_test + noise_factor*np.random.normal(loc=0.0,scale=1.0,size=x_test.shape)"
   ]
  },
  {
   "cell_type": "code",
   "execution_count": 17,
   "id": "0c67b8f8",
   "metadata": {
    "execution": {
     "iopub.execute_input": "2023-01-27T11:10:39.633967Z",
     "iopub.status.busy": "2023-01-27T11:10:39.633649Z",
     "iopub.status.idle": "2023-01-27T11:10:39.638087Z",
     "shell.execute_reply": "2023-01-27T11:10:39.637174Z"
    },
    "papermill": {
     "duration": 0.046149,
     "end_time": "2023-01-27T11:10:39.640156",
     "exception": false,
     "start_time": "2023-01-27T11:10:39.594007",
     "status": "completed"
    },
    "tags": []
   },
   "outputs": [],
   "source": [
    "#x_train[0]"
   ]
  },
  {
   "cell_type": "code",
   "execution_count": 18,
   "id": "c9cb009d",
   "metadata": {
    "execution": {
     "iopub.execute_input": "2023-01-27T11:10:39.718835Z",
     "iopub.status.busy": "2023-01-27T11:10:39.718549Z",
     "iopub.status.idle": "2023-01-27T11:10:39.722271Z",
     "shell.execute_reply": "2023-01-27T11:10:39.721348Z"
    },
    "papermill": {
     "duration": 0.046138,
     "end_time": "2023-01-27T11:10:39.724260",
     "exception": false,
     "start_time": "2023-01-27T11:10:39.678122",
     "status": "completed"
    },
    "tags": []
   },
   "outputs": [],
   "source": [
    "#x_train_noisy[0]"
   ]
  },
  {
   "cell_type": "code",
   "execution_count": 19,
   "id": "bb951b7d",
   "metadata": {
    "execution": {
     "iopub.execute_input": "2023-01-27T11:10:39.802275Z",
     "iopub.status.busy": "2023-01-27T11:10:39.801986Z",
     "iopub.status.idle": "2023-01-27T11:10:40.037745Z",
     "shell.execute_reply": "2023-01-27T11:10:40.035189Z"
    },
    "papermill": {
     "duration": 0.278803,
     "end_time": "2023-01-27T11:10:40.041545",
     "exception": false,
     "start_time": "2023-01-27T11:10:39.762742",
     "status": "completed"
    },
    "tags": []
   },
   "outputs": [],
   "source": [
    "# cliping the values in the range 0-1\n",
    "x_train_noisy = np.clip(x_train_noisy,0.,1.)\n",
    "x_test_noisy = np.clip(x_test_noisy,0.,1.)"
   ]
  },
  {
   "cell_type": "code",
   "execution_count": 20,
   "id": "de5bd18d",
   "metadata": {
    "execution": {
     "iopub.execute_input": "2023-01-27T11:10:40.175741Z",
     "iopub.status.busy": "2023-01-27T11:10:40.175348Z",
     "iopub.status.idle": "2023-01-27T11:10:40.382508Z",
     "shell.execute_reply": "2023-01-27T11:10:40.381663Z"
    },
    "papermill": {
     "duration": 0.268772,
     "end_time": "2023-01-27T11:10:40.385007",
     "exception": false,
     "start_time": "2023-01-27T11:10:40.116235",
     "status": "completed"
    },
    "tags": []
   },
   "outputs": [
    {
     "data": {
      "image/png": "[encoded data removed]",
      "text/plain": [
       "<Figure size 432x288 with 1 Axes>"
      ]
     },
     "metadata": {
      "needs_background": "light"
     },
     "output_type": "display_data"
    }
   ],
   "source": [
    "# Original image\n",
    "index = np.random.randint(len(x_test))\n",
    "plt.imshow(x_test[index].reshape(28,28))\n",
    "plt.gray()"
   ]
  },
  {
   "cell_type": "code",
   "execution_count": 21,
   "id": "772480b4",
   "metadata": {
    "execution": {
     "iopub.execute_input": "2023-01-27T11:10:40.501429Z",
     "iopub.status.busy": "2023-01-27T11:10:40.501051Z",
     "iopub.status.idle": "2023-01-27T11:10:40.693991Z",
     "shell.execute_reply": "2023-01-27T11:10:40.693024Z"
    },
    "papermill": {
     "duration": 0.253584,
     "end_time": "2023-01-27T11:10:40.695974",
     "exception": false,
     "start_time": "2023-01-27T11:10:40.442390",
     "status": "completed"
    },
    "tags": []
   },
   "outputs": [
    {
     "data": {
      "image/png": "[encoded data removed]",
      "text/plain": [
       "<Figure size 432x288 with 1 Axes>"
      ]
     },
     "metadata": {
      "needs_background": "light"
     },
     "output_type": "display_data"
    }
   ],
   "source": [
    "# Noisy image\n",
    "index = np.random.randint(len(x_test))\n",
    "plt.imshow(x_test_noisy[index].reshape(28,28))\n",
    "plt.gray()"
   ]
  },
  {
   "cell_type": "markdown",
   "id": "5cd89e71",
   "metadata": {
    "papermill": {
     "duration": 0.038745,
     "end_time": "2023-01-27T11:10:40.773986",
     "exception": false,
     "start_time": "2023-01-27T11:10:40.735241",
     "status": "completed"
    },
    "tags": []
   },
   "source": [
    "## Model Creation"
   ]
  },
  {
   "cell_type": "code",
   "execution_count": 22,
   "id": "082419af",
   "metadata": {
    "execution": {
     "iopub.execute_input": "2023-01-27T11:10:40.852462Z",
     "iopub.status.busy": "2023-01-27T11:10:40.852176Z",
     "iopub.status.idle": "2023-01-27T11:10:40.911264Z",
     "shell.execute_reply": "2023-01-27T11:10:40.910239Z"
    },
    "papermill": {
     "duration": 0.102152,
     "end_time": "2023-01-27T11:10:40.914655",
     "exception": false,
     "start_time": "2023-01-27T11:10:40.812503",
     "status": "completed"
    },
    "tags": []
   },
   "outputs": [
    {
     "name": "stdout",
     "output_type": "stream",
     "text": [
      "Model: \"sequential_1\"\n",
      "_________________________________________________________________\n",
      "Layer (type)                 Output Shape              Param #   \n",
      "=================================================================\n",
      "conv2d_5 (Conv2D)            (None, 28, 28, 32)        320       \n",
      "_________________________________________________________________\n",
      "max_pooling2d_2 (MaxPooling2 (None, 14, 14, 32)        0         \n",
      "_________________________________________________________________\n",
      "conv2d_6 (Conv2D)            (None, 14, 14, 16)        4624      \n",
      "_________________________________________________________________\n",
      "max_pooling2d_3 (MaxPooling2 (None, 7, 7, 16)          0         \n",
      "_________________________________________________________________\n",
      "conv2d_7 (Conv2D)            (None, 7, 7, 16)          2320      \n",
      "_________________________________________________________________\n",
      "up_sampling2d_2 (UpSampling2 (None, 14, 14, 16)        0         \n",
      "_________________________________________________________________\n",
      "conv2d_8 (Conv2D)            (None, 14, 14, 32)        4640      \n",
      "_________________________________________________________________\n",
      "up_sampling2d_3 (UpSampling2 (None, 28, 28, 32)        0         \n",
      "_________________________________________________________________\n",
      "conv2d_9 (Conv2D)            (None, 28, 28, 1)         289       \n",
      "=================================================================\n",
      "Total params: 12,193\n",
      "Trainable params: 12,193\n",
      "Non-trainable params: 0\n",
      "_________________________________________________________________\n"
     ]
    }
   ],
   "source": [
    "model = Sequential([\n",
    "    # encoder network\n",
    "    Conv2D(32,3,activation='relu',padding='same',input_shape=(28,28,1)),\n",
    "    MaxPooling2D(2,padding='same'),\n",
    "    Conv2D(16,3,activation='relu',padding='same'),\n",
    "    MaxPooling2D(2,padding='same'),\n",
    "    \n",
    "    # decoder netwrok\n",
    "    Conv2D(16,3,activation='relu',padding='same'),\n",
    "    UpSampling2D(2),\n",
    "    Conv2D(32,3,activation='relu',padding='same'),\n",
    "    UpSampling2D(2),\n",
    "    \n",
    "    # output layer\n",
    "    Conv2D(1,3,activation='sigmoid',padding='same')\n",
    "    \n",
    "])\n",
    "\n",
    "model.compile(optimizer='adam',loss='binary_crossentropy')\n",
    "model.summary()"
   ]
  },
  {
   "cell_type": "code",
   "execution_count": 23,
   "id": "e74a9c82",
   "metadata": {
    "execution": {
     "iopub.execute_input": "2023-01-27T11:10:40.994837Z",
     "iopub.status.busy": "2023-01-27T11:10:40.993934Z",
     "iopub.status.idle": "2023-01-27T11:11:23.169986Z",
     "shell.execute_reply": "2023-01-27T11:11:23.169027Z"
    },
    "papermill": {
     "duration": 42.217917,
     "end_time": "2023-01-27T11:11:23.172056",
     "exception": false,
     "start_time": "2023-01-27T11:10:40.954139",
     "status": "completed"
    },
    "tags": []
   },
   "outputs": [
    {
     "name": "stdout",
     "output_type": "stream",
     "text": [
      "Epoch 1/20\n",
      "235/235 [==============================] - 2s 8ms/step - loss: 0.2536 - val_loss: 0.1555\n",
      "Epoch 2/20\n",
      "235/235 [==============================] - 2s 8ms/step - loss: 0.1459 - val_loss: 0.1374\n",
      "Epoch 3/20\n",
      "235/235 [==============================] - 2s 7ms/step - loss: 0.1355 - val_loss: 0.1311\n",
      "Epoch 4/20\n",
      "235/235 [==============================] - 2s 7ms/step - loss: 0.1306 - val_loss: 0.1272\n",
      "Epoch 5/20\n",
      "235/235 [==============================] - 2s 8ms/step - loss: 0.1274 - val_loss: 0.1245\n",
      "Epoch 6/20\n",
      "235/235 [==============================] - 2s 7ms/step - loss: 0.1251 - val_loss: 0.1228\n",
      "Epoch 7/20\n",
      "235/235 [==============================] - 2s 7ms/step - loss: 0.1233 - val_loss: 0.1209\n",
      "Epoch 8/20\n",
      "235/235 [==============================] - 2s 7ms/step - loss: 0.1217 - val_loss: 0.1199\n",
      "Epoch 9/20\n",
      "235/235 [==============================] - 2s 7ms/step - loss: 0.1205 - val_loss: 0.1186\n",
      "Epoch 10/20\n",
      "235/235 [==============================] - 2s 7ms/step - loss: 0.1195 - val_loss: 0.1177\n",
      "Epoch 11/20\n",
      "235/235 [==============================] - 2s 7ms/step - loss: 0.1186 - val_loss: 0.1174\n",
      "Epoch 12/20\n",
      "235/235 [==============================] - 2s 8ms/step - loss: 0.1179 - val_loss: 0.1164\n",
      "Epoch 13/20\n",
      "235/235 [==============================] - 2s 7ms/step - loss: 0.1172 - val_loss: 0.1157\n",
      "Epoch 14/20\n",
      "235/235 [==============================] - 2s 7ms/step - loss: 0.1166 - val_loss: 0.1154\n",
      "Epoch 15/20\n",
      "235/235 [==============================] - 2s 7ms/step - loss: 0.1161 - val_loss: 0.1149\n",
      "Epoch 16/20\n",
      "235/235 [==============================] - 2s 7ms/step - loss: 0.1157 - val_loss: 0.1150\n",
      "Epoch 17/20\n",
      "235/235 [==============================] - 2s 7ms/step - loss: 0.1153 - val_loss: 0.1149\n",
      "Epoch 18/20\n",
      "235/235 [==============================] - 2s 8ms/step - loss: 0.1149 - val_loss: 0.1139\n",
      "Epoch 19/20\n",
      "235/235 [==============================] - 2s 7ms/step - loss: 0.1147 - val_loss: 0.1134\n",
      "Epoch 20/20\n",
      "235/235 [==============================] - 2s 8ms/step - loss: 0.1143 - val_loss: 0.1131\n"
     ]
    },
    {
     "data": {
      "text/plain": [
       "<keras.callbacks.History at 0x7f9c0e814610>"
      ]
     },
     "execution_count": 23,
     "metadata": {},
     "output_type": "execute_result"
    }
   ],
   "source": [
    "# training the model\n",
    "model.fit(x_train_noisy,x_train, epochs=20, batch_size=256, validation_data=(x_test_noisy,x_test))"
   ]
  },
  {
   "cell_type": "code",
   "execution_count": 24,
   "id": "bbc39378",
   "metadata": {
    "execution": {
     "iopub.execute_input": "2023-01-27T11:11:23.312867Z",
     "iopub.status.busy": "2023-01-27T11:11:23.312543Z",
     "iopub.status.idle": "2023-01-27T11:11:23.857793Z",
     "shell.execute_reply": "2023-01-27T11:11:23.856793Z"
    },
    "papermill": {
     "duration": 0.618362,
     "end_time": "2023-01-27T11:11:23.860430",
     "exception": false,
     "start_time": "2023-01-27T11:11:23.242068",
     "status": "completed"
    },
    "tags": []
   },
   "outputs": [],
   "source": [
    "pred = model.predict(x_test)"
   ]
  },
  {
   "cell_type": "code",
   "execution_count": 25,
   "id": "1e551d55",
   "metadata": {
    "execution": {
     "iopub.execute_input": "2023-01-27T11:11:24.053101Z",
     "iopub.status.busy": "2023-01-27T11:11:24.052446Z",
     "iopub.status.idle": "2023-01-27T11:11:24.292567Z",
     "shell.execute_reply": "2023-01-27T11:11:24.291558Z"
    },
    "papermill": {
     "duration": 0.364031,
     "end_time": "2023-01-27T11:11:24.295166",
     "exception": false,
     "start_time": "2023-01-27T11:11:23.931135",
     "status": "completed"
    },
    "tags": []
   },
   "outputs": [
    {
     "data": {
      "image/png": "[encoded data removed]",
      "text/plain": [
       "<Figure size 432x288 with 1 Axes>"
      ]
     },
     "metadata": {
      "needs_background": "light"
     },
     "output_type": "display_data"
    }
   ],
   "source": [
    "# visualizing the noisy image\n",
    "index = np.random.randint(len(x_test))\n",
    "plt.imshow(x_test_noisy[index].reshape(28,28))\n",
    "plt.gray()"
   ]
  },
  {
   "cell_type": "code",
   "execution_count": 26,
   "id": "edb67d65",
   "metadata": {
    "execution": {
     "iopub.execute_input": "2023-01-27T11:11:24.503297Z",
     "iopub.status.busy": "2023-01-27T11:11:24.502772Z",
     "iopub.status.idle": "2023-01-27T11:11:24.683502Z",
     "shell.execute_reply": "2023-01-27T11:11:24.682642Z"
    },
    "papermill": {
     "duration": 0.286744,
     "end_time": "2023-01-27T11:11:24.685488",
     "exception": false,
     "start_time": "2023-01-27T11:11:24.398744",
     "status": "completed"
    },
    "tags": []
   },
   "outputs": [
    {
     "data": {
      "image/png": "[encoded data removed]",
      "text/plain": [
       "<Figure size 432x288 with 1 Axes>"
      ]
     },
     "metadata": {
      "needs_background": "light"
     },
     "output_type": "display_data"
    }
   ],
   "source": [
    "# visualizing the original image\n",
    "plt.imshow(pred[index].reshape(28,28))\n",
    "plt.gray()"
   ]
  },
  {
   "cell_type": "code",
   "execution_count": 27,
   "id": "4da5fe71",
   "metadata": {
    "execution": {
     "iopub.execute_input": "2023-01-27T11:11:24.827437Z",
     "iopub.status.busy": "2023-01-27T11:11:24.827144Z",
     "iopub.status.idle": "2023-01-27T11:11:25.080909Z",
     "shell.execute_reply": "2023-01-27T11:11:25.080016Z"
    },
    "papermill": {
     "duration": 0.326393,
     "end_time": "2023-01-27T11:11:25.082880",
     "exception": false,
     "start_time": "2023-01-27T11:11:24.756487",
     "status": "completed"
    },
    "tags": []
   },
   "outputs": [
    {
     "data": {
      "text/plain": [
       "<function matplotlib.pyplot.show(close=None, block=None)>"
      ]
     },
     "execution_count": 27,
     "metadata": {},
     "output_type": "execute_result"
    },
    {
     "data": {
      "image/png": "[encoded data removed]",
      "text/plain": [
       "<Figure size 720x288 with 2 Axes>"
      ]
     },
     "metadata": {
      "needs_background": "light"
     },
     "output_type": "display_data"
    }
   ],
   "source": [
    "index = np.random.randint(len(x_test))\n",
    "plt.figure(figsize=(10,4))\n",
    "# displaying original image\n",
    "ax=plt.subplot(1,2,1)\n",
    "plt.imshow(x_test_noisy[index].reshape(28,28))\n",
    "plt.gray()\n",
    "\n",
    "\n",
    "# displaying predicted image\n",
    "ax=plt.subplot(1,2,2)\n",
    "plt.imshow(pred[index].reshape(28,28))\n",
    "plt.gray()\n",
    "\n",
    "plt.show"
   ]
  },
  {
   "cell_type": "code",
   "execution_count": null,
   "id": "27123cd6",
   "metadata": {
    "papermill": {
     "duration": 0.069382,
     "end_time": "2023-01-27T11:11:25.229012",
     "exception": false,
     "start_time": "2023-01-27T11:11:25.159630",
     "status": "completed"
    },
    "tags": []
   },
   "outputs": [],
   "source": []
  }
 ],
 "metadata": {
  "kernelspec": {
   "display_name": "Python 3",
   "language": "python",
   "name": "python3"
  },
  "language_info": {
   "codemirror_mode": {
    "name": "ipython",
    "version": 3
   },
   "file_extension": ".py",
   "mimetype": "text/x-python",
   "name": "python",
   "nbconvert_exporter": "python",
   "pygments_lexer": "ipython3",
   "version": "3.7.12"
  },
  "papermill": {
   "default_parameters": {},
   "duration": 113.26453,
   "end_time": "2023-01-27T11:11:28.653839",
   "environment_variables": {},
   "exception": null,
   "input_path": "__notebook__.ipynb",
   "output_path": "__notebook__.ipynb",
   "parameters": {},
   "start_time": "2023-01-27T11:09:35.389309",
   "version": "2.3.4"
  }
 },
 "nbformat": 4,
 "nbformat_minor": 5
}
